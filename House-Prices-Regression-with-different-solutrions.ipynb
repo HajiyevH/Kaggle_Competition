{
 "cells": [
  {
   "cell_type": "code",
   "execution_count": 12,
   "metadata": {},
   "outputs": [],
   "source": [
    "import warnings \n",
    "warnings.filterwarnings(\"ignore\")\n",
    "import pandas as pd\n",
    "import numpy as np\n",
    "import seaborn as sns\n",
    "import matplotlib.pyplot as plt\n",
    "from sklearn.preprocessing import OneHotEncoder\n",
    "train = pd.read_csv('/Users/hajiaga/Downloads/house-prices-advanced-regression-techniques/train.csv')\n",
    "test = pd.read_csv('/Users/hajiaga/Downloads/house-prices-advanced-regression-techniques/test.csv')\n",
    "sample_submission = pd.read_csv('/Users/hajiaga/Downloads/house-prices-advanced-regression-techniques/sample_submission.csv')"
   ]
  },
  {
   "cell_type": "code",
   "execution_count": null,
   "metadata": {},
   "outputs": [],
   "source": [
    "data = pd.concat([train , test] , axis= 0)\n",
    "test_id = test[\"Id\"]\n",
    "data.drop([\"Id\"] ,axis=1, inplace=True)\n",
    "data.head()"
   ]
  },
  {
   "cell_type": "code",
   "execution_count": null,
   "metadata": {},
   "outputs": [],
   "source": [
    "str_cols = data.select_dtypes(\"O\").columns\n",
    "num_cols = list(set(data.columns) - set(str_cols))\n",
    "no_cols = [\"MiscFeature\" , \"Fence\" , \"GarageCond\" , \"GarageQual\" , \"GarageFinish\" , \"FireplaceQu\" , \"BsmtFinType2\" , \"BsmtExposure\", \"BsmtCond\" , \"BsmtQual\" , \"Alley\"]\n",
    "for col in test.columns:\n",
    "    if col != \"SalePrice\":\n",
    "        if col in no_cols:\n",
    "            data[col]=data[col].fillna(\"no\")\n",
    "        elif col in str_cols:\n",
    "            data[col]=data[col].fillna(data[col].mode()[0])\n",
    "        elif col in num_cols:\n",
    "            data[col]=data[col].fillna(data[col].median())"
   ]
  },
  {
   "cell_type": "code",
   "execution_count": 14,
   "metadata": {},
   "outputs": [],
   "source": [
    "ohe  = OneHotEncoder(drop = \"first\")\n",
    "ohe.fit(data[str_cols])\n",
    "ohe_data=ohe.transform(data[str_cols]).toarray()\n",
    "ohe_df = pd.DataFrame(ohe_data , columns = ohe.get_feature_names_out())"
   ]
  },
  {
   "cell_type": "code",
   "execution_count": null,
   "metadata": {},
   "outputs": [],
   "source": [
    "data.drop(str_cols , inplace=True ,axis = 1)"
   ]
  },
  {
   "cell_type": "code",
   "execution_count": null,
   "metadata": {},
   "outputs": [],
   "source": []
  },
  {
   "cell_type": "code",
   "execution_count": null,
   "metadata": {},
   "outputs": [],
   "source": []
  }
 ],
 "metadata": {
  "kernelspec": {
   "display_name": "unsupervisedLearning",
   "language": "python",
   "name": "python3"
  },
  "language_info": {
   "codemirror_mode": {
    "name": "ipython",
    "version": 3
   },
   "file_extension": ".py",
   "mimetype": "text/x-python",
   "name": "python",
   "nbconvert_exporter": "python",
   "pygments_lexer": "ipython3",
   "version": "3.11.4"
  }
 },
 "nbformat": 4,
 "nbformat_minor": 2
}
