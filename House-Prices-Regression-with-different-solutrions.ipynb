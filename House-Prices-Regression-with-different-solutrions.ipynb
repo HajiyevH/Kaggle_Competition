{
 "cells": [
  {
   "cell_type": "code",
   "execution_count": 84,
   "metadata": {},
   "outputs": [],
   "source": [
    "import warnings \n",
    "warnings.filterwarnings(\"ignore\")\n",
    "from sklearn.linear_model import ElasticNet\n",
    "\n",
    "import pandas as pd\n",
    "import numpy as np\n",
    "import seaborn as sns\n",
    "import matplotlib.pyplot as plt\n",
    "from sklearn.preprocessing import OneHotEncoder , PolynomialFeatures \n",
    "from sklearn.linear_model import LinearRegression \n",
    "from sklearn.metrics import mean_squared_error\n",
    "from sklearn.model_selection import train_test_split\n",
    "from sklearn.neighbors import KNeighborsClassifier\n",
    "from sklearn.compose import ColumnTransformer\n",
    "train = pd.read_csv('/Users/hajiaga/Documents/house-prices-advanced-regression-techniques-2/train.csv')\n",
    "test = pd.read_csv('/Users/hajiaga/Documents/house-prices-advanced-regression-techniques-2/test.csv')\n",
    "sample_submission = pd.read_csv('/Users/hajiaga/Documents/house-prices-advanced-regression-techniques-2/sample_submission.csv')"
   ]
  },
  {
   "cell_type": "code",
   "execution_count": 85,
   "metadata": {},
   "outputs": [],
   "source": [
    "data\n",
    "data = pd.concat([train , test] , axis= 0)\n",
    "test_id = test[\"Id\"]\n",
    "data.drop([\"Id\"] ,axis=1, inplace=True)\n",
    "data[\"Age\"] = data[\"YrSold\"] - data[\"YearBuilt\"]\n",
    "data[\"Agere\"] = data[\"YrSold\"] - data[\"YearRemodAdd\"]\n",
    "data[\"yaxsi\"] = data[\"1stFlrSF\"]+data[\"2ndFlrSF\"]-data[\"LowQualFinSF\"]\n",
    "data[\"perbas\"] = ((data[\"TotalBsmtSF\"]-data[\"BsmtUnfSF\"])/data[\"BsmtUnfSF\"])*100\n"
   ]
  },
  {
   "cell_type": "code",
   "execution_count": 104,
   "metadata": {},
   "outputs": [
    {
     "ename": "TypeError",
     "evalue": "unsupported operand type(s) for -: 'str' and 'str'",
     "output_type": "error",
     "traceback": [
      "\u001b[0;31m---------------------------------------------------------------------------\u001b[0m",
      "\u001b[0;31mTypeError\u001b[0m                                 Traceback (most recent call last)",
      "\u001b[1;32m/HajiyevH/Kaggle_Competition/House-Prices-Regression-with-different-solutrions.ipynb Cell 3\u001b[0m line \u001b[0;36m1\n\u001b[1;32m     <a href='vscode-notebook-cell://github/HajiyevH/Kaggle_Competition/House-Prices-Regression-with-different-solutrions.ipynb#W2sdnNjb2RlLXZmcw%3D%3D?line=9'>10</a>\u001b[0m         \u001b[39melif\u001b[39;00m col \u001b[39min\u001b[39;00m num_cols:\n\u001b[1;32m     <a href='vscode-notebook-cell://github/HajiyevH/Kaggle_Competition/House-Prices-Regression-with-different-solutrions.ipynb#W2sdnNjb2RlLXZmcw%3D%3D?line=10'>11</a>\u001b[0m             data[col]\u001b[39m=\u001b[39mdata[col]\u001b[39m.\u001b[39mfillna(data[col]\u001b[39m.\u001b[39mmedian())\n\u001b[0;32m---> <a href='vscode-notebook-cell://github/HajiyevH/Kaggle_Competition/House-Prices-Regression-with-different-solutrions.ipynb#W2sdnNjb2RlLXZmcw%3D%3D?line=12'>13</a>\u001b[0m result \u001b[39m=\u001b[39m [x \u001b[39m-\u001b[39m y \u001b[39mfor\u001b[39;00m x, y \u001b[39min\u001b[39;00m \u001b[39mzip\u001b[39m(\u001b[39mlist\u001b[39m(str_cols), no_cols)]\n",
      "\u001b[1;32m/HajiyevH/Kaggle_Competition/House-Prices-Regression-with-different-solutrions.ipynb Cell 3\u001b[0m line \u001b[0;36m1\n\u001b[1;32m     <a href='vscode-notebook-cell://github/HajiyevH/Kaggle_Competition/House-Prices-Regression-with-different-solutrions.ipynb#W2sdnNjb2RlLXZmcw%3D%3D?line=9'>10</a>\u001b[0m         \u001b[39melif\u001b[39;00m col \u001b[39min\u001b[39;00m num_cols:\n\u001b[1;32m     <a href='vscode-notebook-cell://github/HajiyevH/Kaggle_Competition/House-Prices-Regression-with-different-solutrions.ipynb#W2sdnNjb2RlLXZmcw%3D%3D?line=10'>11</a>\u001b[0m             data[col]\u001b[39m=\u001b[39mdata[col]\u001b[39m.\u001b[39mfillna(data[col]\u001b[39m.\u001b[39mmedian())\n\u001b[0;32m---> <a href='vscode-notebook-cell://github/HajiyevH/Kaggle_Competition/House-Prices-Regression-with-different-solutrions.ipynb#W2sdnNjb2RlLXZmcw%3D%3D?line=12'>13</a>\u001b[0m result \u001b[39m=\u001b[39m [x \u001b[39m-\u001b[39m y \u001b[39mfor\u001b[39;00m x, y \u001b[39min\u001b[39;00m \u001b[39mzip\u001b[39m(\u001b[39mlist\u001b[39m(str_cols), no_cols)]\n",
      "\u001b[0;31mTypeError\u001b[0m: unsupported operand type(s) for -: 'str' and 'str'"
     ]
    }
   ],
   "source": [
    "str_cols = data.select_dtypes(\"O\").columns\n",
    "num_cols = data.select_dtypes(\"number\").columns\n",
    "no_cols = [\"MiscFeature\" , \"Fence\" , \"GarageCond\" , \"GarageQual\" , \"GarageFinish\" , \"FireplaceQu\" , \"BsmtFinType2\" , \"BsmtExposure\", \"BsmtCond\" , \"BsmtQual\" , \"Alley\"]\n",
    "for col in test.columns:\n",
    "    if col != \"SalePrice\":\n",
    "        if col in no_cols:\n",
    "            data[col]=data[col].fillna(\"no\")\n",
    "        elif col in str_cols:\n",
    "            data[col]=data[col].fillna(data[col].mode()[0])\n",
    "        elif col in num_cols:\n",
    "            data[col]=data[col].fillna(data[col].median())\n",
    "\n",
    "\n"
   ]
  },
  {
   "cell_type": "code",
   "execution_count": 102,
   "metadata": {},
   "outputs": [
    {
     "ename": "TypeError",
     "evalue": "unsupported operand type(s) for -: 'list' and 'list'",
     "output_type": "error",
     "traceback": [
      "\u001b[0;31m---------------------------------------------------------------------------\u001b[0m",
      "\u001b[0;31mTypeError\u001b[0m                                 Traceback (most recent call last)",
      "\u001b[1;32m/HajiyevH/Kaggle_Competition/House-Prices-Regression-with-different-solutrions.ipynb Cell 4\u001b[0m line \u001b[0;36m1\n\u001b[0;32m----> <a href='vscode-notebook-cell://github/HajiyevH/Kaggle_Competition/House-Prices-Regression-with-different-solutrions.ipynb#X24sdnNjb2RlLXZmcw%3D%3D?line=0'>1</a>\u001b[0m \u001b[39mfor\u001b[39;00m col \u001b[39min\u001b[39;00m \u001b[39mlist\u001b[39m(str_cols)\u001b[39m-\u001b[39mno_cols:\n\u001b[1;32m      <a href='vscode-notebook-cell://github/HajiyevH/Kaggle_Competition/House-Prices-Regression-with-different-solutrions.ipynb#X24sdnNjb2RlLXZmcw%3D%3D?line=1'>2</a>\u001b[0m     \u001b[39mif\u001b[39;00m data[col]\u001b[39m.\u001b[39misnull()\u001b[39m.\u001b[39msum()\u001b[39m/\u001b[39mdata[col]\u001b[39m.\u001b[39mcount()\u001b[39m>\u001b[39m\u001b[39m0\u001b[39m:\n\u001b[1;32m      <a href='vscode-notebook-cell://github/HajiyevH/Kaggle_Competition/House-Prices-Regression-with-different-solutrions.ipynb#X24sdnNjb2RlLXZmcw%3D%3D?line=2'>3</a>\u001b[0m         \u001b[39mprint\u001b[39m(col ,data[col]\u001b[39m.\u001b[39misnull()\u001b[39m.\u001b[39msum()\u001b[39m/\u001b[39mdata[col]\u001b[39m.\u001b[39mcount() )\n",
      "\u001b[0;31mTypeError\u001b[0m: unsupported operand type(s) for -: 'list' and 'list'"
     ]
    }
   ],
   "source": [
    "\n",
    "for col in lstr_cols)-no_cols:\n",
    "    if data[col].isnull().sum()/data[col].count()>0:\n",
    "        print(col ,data[col].isnull().sum()/data[col].count() ) "
   ]
  },
  {
   "cell_type": "code",
   "execution_count": 87,
   "metadata": {},
   "outputs": [],
   "source": [
    "ohe  = OneHotEncoder(drop = \"first\")\n",
    "ohe.fit(data[str_cols])\n",
    "ohe_data=ohe.transform(data[str_cols]).toarray()\n",
    "ohe_df = pd.DataFrame(ohe_data , columns = ohe.get_feature_names_out())"
   ]
  },
  {
   "cell_type": "code",
   "execution_count": 88,
   "metadata": {},
   "outputs": [],
   "source": [
    "if list(str_cols) in list(data.columns):\n",
    "    data.drop(str_cols , inplace=True ,axis = 1)\n",
    "data.index=range(len(data))\n",
    "\n",
    "ohe_df.index=range(len(ohe_df))"
   ]
  },
  {
   "cell_type": "code",
   "execution_count": 89,
   "metadata": {},
   "outputs": [],
   "source": [
    "data=pd.concat([data, ohe_df], axis=1)"
   ]
  },
  {
   "cell_type": "code",
   "execution_count": 90,
   "metadata": {},
   "outputs": [],
   "source": [
    "# ct = ColumnTransformer(transformers=[( \"poly\" ,PolynomialFeatures(degree=2), a.select_dtypes(include=['number']).columns)], remainder='passthrough')\n",
    "# ct.fit_transform(data)\n"
   ]
  },
  {
   "cell_type": "code",
   "execution_count": 91,
   "metadata": {},
   "outputs": [],
   "source": [
    "# cte = ColumnTransformer(transformers=[( \"poly\" ,PolynomialFeatures(degree=2), pd.Series((list(data.select_dtypes(include=['number']).columns).remove(\"SalePrice\"))).astype(\"O\"))], remainder='passthrough')\n",
    "# cte.fit_transform(data)\n",
    "# data.select_dtypes(\"number\")"
   ]
  },
  {
   "cell_type": "code",
   "execution_count": 92,
   "metadata": {},
   "outputs": [],
   "source": [
    "from sklearn.compose import ColumnTransformer\n",
    "\n",
    "train=data[data['SalePrice'].notnull()]\n",
    "test=data[data['SalePrice'].isnull()]\n",
    "test.drop(['SalePrice'] , inplace=True , axis = 1)\n",
    "\n",
    "X=train.drop('SalePrice', axis=1)\n",
    "Y=train['SalePrice']\n",
    "\n",
    "# # One-hot encode categorical vari\n",
    "# # ables\n",
    "ct = ColumnTransformer([('encoder', OneHotEncoder(), X.select_dtypes(include=['object']).columns)], remainder='passthrough')\n",
    "X = ct.fit_transform(X)\n",
    "\n",
    "X_train , X_test , Y_train , Y_test = train_test_split(X , Y , test_size=0.3 , random_state=42)"
   ]
  },
  {
   "cell_type": "code",
   "execution_count": 93,
   "metadata": {},
   "outputs": [],
   "source": [
    "def Poly_F(x , y , i , test ):\n",
    "    pf = PolynomialFeatures(degree=i)\n",
    "    pf.fit(x)\n",
    "    x_poly = pd.DataFrame(pf.transform(x) , columns = pf.get_feature_names_out())\n",
    "    pfe = PolynomialFeatures(degree=i)\n",
    "    pfe.fit(test)\n",
    "    test = pd.DataFrame(pfe.transform(test) , columns = pfe.get_feature_names_out())\n",
    "\n",
    "    X_train , X_test , Y_train , Y_test = train_test_split(x_poly , y , test_size=0.3 , random_state=42)\n",
    "    lr = LinearRegression()\n",
    "    lr.fit(X_train , Y_train)\n",
    "    # rmse_t = np.sqrt(mean_squared_error(Y_train , lr.predict(X_train)))\n",
    "    # rmse= np.sqrt(mean_squared_error(Y_test , lr.predict(X_test)))\n",
    "    return lr.predict(test)"
   ]
  },
  {
   "cell_type": "code",
   "execution_count": 94,
   "metadata": {},
   "outputs": [],
   "source": [
    "def enet(x , y , i , j):\n",
    "    enet = ElasticNet(alpha= i  , l1_ratio=j)\n",
    "    X_train , X_test , Y_train , Y_test = train_test_split(x , y , test_size=0.25 , random_state=42)\n",
    "    enet.fit(X_train , Y_train)\n",
    "    rmse_t = np.sqrt(mean_squared_error(Y_train , enet.predict(X_train)))\n",
    "    rmse= np.sqrt(mean_squared_error(Y_test , enet.predict(X_test)))\n",
    "    return rmse_t , rmse , i , j"
   ]
  },
  {
   "cell_type": "code",
   "execution_count": 95,
   "metadata": {},
   "outputs": [],
   "source": [
    "best_enet = {}\n",
    "best_enet = dict(best_enet)\n",
    "best_enety = {}\n",
    "best_enety = dict(best_enety)\n",
    "# for i in [1,20,80]:\n",
    "#     for j in [1,20,80]:\n",
    "#         a , b , c , d= enet(X ,Y ,i/100 , j/100)\n",
    "#         best_enet[f\" i {c} , j {d}\"] = b\n",
    "#         best_enety[f\" i {c} , j {d}\"] = a\n"
   ]
  },
  {
   "cell_type": "code",
   "execution_count": 96,
   "metadata": {},
   "outputs": [],
   "source": [
    "# print(print(min(best_enet, key=best_enet.get)))\n",
    "# print(print(min(best_enety, key=best_enety.get)))"
   ]
  },
  {
   "cell_type": "code",
   "execution_count": 97,
   "metadata": {},
   "outputs": [
    {
     "name": "stdout",
     "output_type": "stream",
     "text": [
      "SalePrice 0.9993150684931507\n",
      "perbas 0.027816901408450705\n"
     ]
    }
   ],
   "source": [
    "#KNN - 0.39\n",
    "#knn = KNeighborsClassifier()\n",
    "#knn.fit(X_train , Y_train)\n",
    "for col in data:\n",
    "    if data[col].isnull().sum()/data[col].count()>0:\n",
    "        print(col ,data[col].isnull().sum()/data[col].count() )"
   ]
  },
  {
   "cell_type": "code",
   "execution_count": 98,
   "metadata": {},
   "outputs": [
    {
     "ename": "ValueError",
     "evalue": "Input X contains NaN.\nLinearRegression does not accept missing values encoded as NaN natively. For supervised learning, you might want to consider sklearn.ensemble.HistGradientBoostingClassifier and Regressor which accept missing values encoded as NaNs natively. Alternatively, it is possible to preprocess the data, for instance by using an imputer transformer in a pipeline or drop samples with missing values. See https://scikit-learn.org/stable/modules/impute.html You can find a list of all estimators that handle NaN values at the following page: https://scikit-learn.org/stable/modules/impute.html#estimators-that-handle-nan-values",
     "output_type": "error",
     "traceback": [
      "\u001b[0;31m---------------------------------------------------------------------------\u001b[0m",
      "\u001b[0;31mValueError\u001b[0m                                Traceback (most recent call last)",
      "\u001b[1;32m/HajiyevH/Kaggle_Competition/House-Prices-Regression-with-different-solutrions.ipynb Cell 16\u001b[0m line \u001b[0;36m3\n\u001b[1;32m      <a href='vscode-notebook-cell://github/HajiyevH/Kaggle_Competition/House-Prices-Regression-with-different-solutrions.ipynb#X20sdnNjb2RlLXZmcw%3D%3D?line=0'>1</a>\u001b[0m \u001b[39m#Poly degree 2\u001b[39;00m\n\u001b[1;32m      <a href='vscode-notebook-cell://github/HajiyevH/Kaggle_Competition/House-Prices-Regression-with-different-solutrions.ipynb#X20sdnNjb2RlLXZmcw%3D%3D?line=1'>2</a>\u001b[0m lr \u001b[39m=\u001b[39m LinearRegression()\n\u001b[0;32m----> <a href='vscode-notebook-cell://github/HajiyevH/Kaggle_Competition/House-Prices-Regression-with-different-solutrions.ipynb#X20sdnNjb2RlLXZmcw%3D%3D?line=2'>3</a>\u001b[0m lr\u001b[39m.\u001b[39mfit(X , Y)\n",
      "File \u001b[0;32m~/anaconda3/envs/unsupervisedLearning/lib/python3.11/site-packages/sklearn/base.py:1151\u001b[0m, in \u001b[0;36m_fit_context.<locals>.decorator.<locals>.wrapper\u001b[0;34m(estimator, *args, **kwargs)\u001b[0m\n\u001b[1;32m   1144\u001b[0m     estimator\u001b[39m.\u001b[39m_validate_params()\n\u001b[1;32m   1146\u001b[0m \u001b[39mwith\u001b[39;00m config_context(\n\u001b[1;32m   1147\u001b[0m     skip_parameter_validation\u001b[39m=\u001b[39m(\n\u001b[1;32m   1148\u001b[0m         prefer_skip_nested_validation \u001b[39mor\u001b[39;00m global_skip_validation\n\u001b[1;32m   1149\u001b[0m     )\n\u001b[1;32m   1150\u001b[0m ):\n\u001b[0;32m-> 1151\u001b[0m     \u001b[39mreturn\u001b[39;00m fit_method(estimator, \u001b[39m*\u001b[39margs, \u001b[39m*\u001b[39m\u001b[39m*\u001b[39mkwargs)\n",
      "File \u001b[0;32m~/anaconda3/envs/unsupervisedLearning/lib/python3.11/site-packages/sklearn/linear_model/_base.py:678\u001b[0m, in \u001b[0;36mLinearRegression.fit\u001b[0;34m(self, X, y, sample_weight)\u001b[0m\n\u001b[1;32m    674\u001b[0m n_jobs_ \u001b[39m=\u001b[39m \u001b[39mself\u001b[39m\u001b[39m.\u001b[39mn_jobs\n\u001b[1;32m    676\u001b[0m accept_sparse \u001b[39m=\u001b[39m \u001b[39mFalse\u001b[39;00m \u001b[39mif\u001b[39;00m \u001b[39mself\u001b[39m\u001b[39m.\u001b[39mpositive \u001b[39melse\u001b[39;00m [\u001b[39m\"\u001b[39m\u001b[39mcsr\u001b[39m\u001b[39m\"\u001b[39m, \u001b[39m\"\u001b[39m\u001b[39mcsc\u001b[39m\u001b[39m\"\u001b[39m, \u001b[39m\"\u001b[39m\u001b[39mcoo\u001b[39m\u001b[39m\"\u001b[39m]\n\u001b[0;32m--> 678\u001b[0m X, y \u001b[39m=\u001b[39m \u001b[39mself\u001b[39m\u001b[39m.\u001b[39m_validate_data(\n\u001b[1;32m    679\u001b[0m     X, y, accept_sparse\u001b[39m=\u001b[39maccept_sparse, y_numeric\u001b[39m=\u001b[39m\u001b[39mTrue\u001b[39;00m, multi_output\u001b[39m=\u001b[39m\u001b[39mTrue\u001b[39;00m\n\u001b[1;32m    680\u001b[0m )\n\u001b[1;32m    682\u001b[0m has_sw \u001b[39m=\u001b[39m sample_weight \u001b[39mis\u001b[39;00m \u001b[39mnot\u001b[39;00m \u001b[39mNone\u001b[39;00m\n\u001b[1;32m    683\u001b[0m \u001b[39mif\u001b[39;00m has_sw:\n",
      "File \u001b[0;32m~/anaconda3/envs/unsupervisedLearning/lib/python3.11/site-packages/sklearn/base.py:621\u001b[0m, in \u001b[0;36mBaseEstimator._validate_data\u001b[0;34m(self, X, y, reset, validate_separately, cast_to_ndarray, **check_params)\u001b[0m\n\u001b[1;32m    619\u001b[0m         y \u001b[39m=\u001b[39m check_array(y, input_name\u001b[39m=\u001b[39m\u001b[39m\"\u001b[39m\u001b[39my\u001b[39m\u001b[39m\"\u001b[39m, \u001b[39m*\u001b[39m\u001b[39m*\u001b[39mcheck_y_params)\n\u001b[1;32m    620\u001b[0m     \u001b[39melse\u001b[39;00m:\n\u001b[0;32m--> 621\u001b[0m         X, y \u001b[39m=\u001b[39m check_X_y(X, y, \u001b[39m*\u001b[39m\u001b[39m*\u001b[39mcheck_params)\n\u001b[1;32m    622\u001b[0m     out \u001b[39m=\u001b[39m X, y\n\u001b[1;32m    624\u001b[0m \u001b[39mif\u001b[39;00m \u001b[39mnot\u001b[39;00m no_val_X \u001b[39mand\u001b[39;00m check_params\u001b[39m.\u001b[39mget(\u001b[39m\"\u001b[39m\u001b[39mensure_2d\u001b[39m\u001b[39m\"\u001b[39m, \u001b[39mTrue\u001b[39;00m):\n",
      "File \u001b[0;32m~/anaconda3/envs/unsupervisedLearning/lib/python3.11/site-packages/sklearn/utils/validation.py:1147\u001b[0m, in \u001b[0;36mcheck_X_y\u001b[0;34m(X, y, accept_sparse, accept_large_sparse, dtype, order, copy, force_all_finite, ensure_2d, allow_nd, multi_output, ensure_min_samples, ensure_min_features, y_numeric, estimator)\u001b[0m\n\u001b[1;32m   1142\u001b[0m         estimator_name \u001b[39m=\u001b[39m _check_estimator_name(estimator)\n\u001b[1;32m   1143\u001b[0m     \u001b[39mraise\u001b[39;00m \u001b[39mValueError\u001b[39;00m(\n\u001b[1;32m   1144\u001b[0m         \u001b[39mf\u001b[39m\u001b[39m\"\u001b[39m\u001b[39m{\u001b[39;00mestimator_name\u001b[39m}\u001b[39;00m\u001b[39m requires y to be passed, but the target y is None\u001b[39m\u001b[39m\"\u001b[39m\n\u001b[1;32m   1145\u001b[0m     )\n\u001b[0;32m-> 1147\u001b[0m X \u001b[39m=\u001b[39m check_array(\n\u001b[1;32m   1148\u001b[0m     X,\n\u001b[1;32m   1149\u001b[0m     accept_sparse\u001b[39m=\u001b[39maccept_sparse,\n\u001b[1;32m   1150\u001b[0m     accept_large_sparse\u001b[39m=\u001b[39maccept_large_sparse,\n\u001b[1;32m   1151\u001b[0m     dtype\u001b[39m=\u001b[39mdtype,\n\u001b[1;32m   1152\u001b[0m     order\u001b[39m=\u001b[39morder,\n\u001b[1;32m   1153\u001b[0m     copy\u001b[39m=\u001b[39mcopy,\n\u001b[1;32m   1154\u001b[0m     force_all_finite\u001b[39m=\u001b[39mforce_all_finite,\n\u001b[1;32m   1155\u001b[0m     ensure_2d\u001b[39m=\u001b[39mensure_2d,\n\u001b[1;32m   1156\u001b[0m     allow_nd\u001b[39m=\u001b[39mallow_nd,\n\u001b[1;32m   1157\u001b[0m     ensure_min_samples\u001b[39m=\u001b[39mensure_min_samples,\n\u001b[1;32m   1158\u001b[0m     ensure_min_features\u001b[39m=\u001b[39mensure_min_features,\n\u001b[1;32m   1159\u001b[0m     estimator\u001b[39m=\u001b[39mestimator,\n\u001b[1;32m   1160\u001b[0m     input_name\u001b[39m=\u001b[39m\u001b[39m\"\u001b[39m\u001b[39mX\u001b[39m\u001b[39m\"\u001b[39m,\n\u001b[1;32m   1161\u001b[0m )\n\u001b[1;32m   1163\u001b[0m y \u001b[39m=\u001b[39m _check_y(y, multi_output\u001b[39m=\u001b[39mmulti_output, y_numeric\u001b[39m=\u001b[39my_numeric, estimator\u001b[39m=\u001b[39mestimator)\n\u001b[1;32m   1165\u001b[0m check_consistent_length(X, y)\n",
      "File \u001b[0;32m~/anaconda3/envs/unsupervisedLearning/lib/python3.11/site-packages/sklearn/utils/validation.py:959\u001b[0m, in \u001b[0;36mcheck_array\u001b[0;34m(array, accept_sparse, accept_large_sparse, dtype, order, copy, force_all_finite, ensure_2d, allow_nd, ensure_min_samples, ensure_min_features, estimator, input_name)\u001b[0m\n\u001b[1;32m    953\u001b[0m         \u001b[39mraise\u001b[39;00m \u001b[39mValueError\u001b[39;00m(\n\u001b[1;32m    954\u001b[0m             \u001b[39m\"\u001b[39m\u001b[39mFound array with dim \u001b[39m\u001b[39m%d\u001b[39;00m\u001b[39m. \u001b[39m\u001b[39m%s\u001b[39;00m\u001b[39m expected <= 2.\u001b[39m\u001b[39m\"\u001b[39m\n\u001b[1;32m    955\u001b[0m             \u001b[39m%\u001b[39m (array\u001b[39m.\u001b[39mndim, estimator_name)\n\u001b[1;32m    956\u001b[0m         )\n\u001b[1;32m    958\u001b[0m     \u001b[39mif\u001b[39;00m force_all_finite:\n\u001b[0;32m--> 959\u001b[0m         _assert_all_finite(\n\u001b[1;32m    960\u001b[0m             array,\n\u001b[1;32m    961\u001b[0m             input_name\u001b[39m=\u001b[39minput_name,\n\u001b[1;32m    962\u001b[0m             estimator_name\u001b[39m=\u001b[39mestimator_name,\n\u001b[1;32m    963\u001b[0m             allow_nan\u001b[39m=\u001b[39mforce_all_finite \u001b[39m==\u001b[39m \u001b[39m\"\u001b[39m\u001b[39mallow-nan\u001b[39m\u001b[39m\"\u001b[39m,\n\u001b[1;32m    964\u001b[0m         )\n\u001b[1;32m    966\u001b[0m \u001b[39mif\u001b[39;00m ensure_min_samples \u001b[39m>\u001b[39m \u001b[39m0\u001b[39m:\n\u001b[1;32m    967\u001b[0m     n_samples \u001b[39m=\u001b[39m _num_samples(array)\n",
      "File \u001b[0;32m~/anaconda3/envs/unsupervisedLearning/lib/python3.11/site-packages/sklearn/utils/validation.py:124\u001b[0m, in \u001b[0;36m_assert_all_finite\u001b[0;34m(X, allow_nan, msg_dtype, estimator_name, input_name)\u001b[0m\n\u001b[1;32m    121\u001b[0m \u001b[39mif\u001b[39;00m first_pass_isfinite:\n\u001b[1;32m    122\u001b[0m     \u001b[39mreturn\u001b[39;00m\n\u001b[0;32m--> 124\u001b[0m _assert_all_finite_element_wise(\n\u001b[1;32m    125\u001b[0m     X,\n\u001b[1;32m    126\u001b[0m     xp\u001b[39m=\u001b[39mxp,\n\u001b[1;32m    127\u001b[0m     allow_nan\u001b[39m=\u001b[39mallow_nan,\n\u001b[1;32m    128\u001b[0m     msg_dtype\u001b[39m=\u001b[39mmsg_dtype,\n\u001b[1;32m    129\u001b[0m     estimator_name\u001b[39m=\u001b[39mestimator_name,\n\u001b[1;32m    130\u001b[0m     input_name\u001b[39m=\u001b[39minput_name,\n\u001b[1;32m    131\u001b[0m )\n",
      "File \u001b[0;32m~/anaconda3/envs/unsupervisedLearning/lib/python3.11/site-packages/sklearn/utils/validation.py:173\u001b[0m, in \u001b[0;36m_assert_all_finite_element_wise\u001b[0;34m(X, xp, allow_nan, msg_dtype, estimator_name, input_name)\u001b[0m\n\u001b[1;32m    156\u001b[0m \u001b[39mif\u001b[39;00m estimator_name \u001b[39mand\u001b[39;00m input_name \u001b[39m==\u001b[39m \u001b[39m\"\u001b[39m\u001b[39mX\u001b[39m\u001b[39m\"\u001b[39m \u001b[39mand\u001b[39;00m has_nan_error:\n\u001b[1;32m    157\u001b[0m     \u001b[39m# Improve the error message on how to handle missing values in\u001b[39;00m\n\u001b[1;32m    158\u001b[0m     \u001b[39m# scikit-learn.\u001b[39;00m\n\u001b[1;32m    159\u001b[0m     msg_err \u001b[39m+\u001b[39m\u001b[39m=\u001b[39m (\n\u001b[1;32m    160\u001b[0m         \u001b[39mf\u001b[39m\u001b[39m\"\u001b[39m\u001b[39m\\n\u001b[39;00m\u001b[39m{\u001b[39;00mestimator_name\u001b[39m}\u001b[39;00m\u001b[39m does not accept missing values\u001b[39m\u001b[39m\"\u001b[39m\n\u001b[1;32m    161\u001b[0m         \u001b[39m\"\u001b[39m\u001b[39m encoded as NaN natively. For supervised learning, you might want\u001b[39m\u001b[39m\"\u001b[39m\n\u001b[0;32m   (...)\u001b[0m\n\u001b[1;32m    171\u001b[0m         \u001b[39m\"\u001b[39m\u001b[39m#estimators-that-handle-nan-values\u001b[39m\u001b[39m\"\u001b[39m\n\u001b[1;32m    172\u001b[0m     )\n\u001b[0;32m--> 173\u001b[0m \u001b[39mraise\u001b[39;00m \u001b[39mValueError\u001b[39;00m(msg_err)\n",
      "\u001b[0;31mValueError\u001b[0m: Input X contains NaN.\nLinearRegression does not accept missing values encoded as NaN natively. For supervised learning, you might want to consider sklearn.ensemble.HistGradientBoostingClassifier and Regressor which accept missing values encoded as NaNs natively. Alternatively, it is possible to preprocess the data, for instance by using an imputer transformer in a pipeline or drop samples with missing values. See https://scikit-learn.org/stable/modules/impute.html You can find a list of all estimators that handle NaN values at the following page: https://scikit-learn.org/stable/modules/impute.html#estimators-that-handle-nan-values"
     ]
    }
   ],
   "source": [
    "#Poly degree 2\n",
    "lr = LinearRegression()\n",
    "lr.fit(X , Y)\n"
   ]
  },
  {
   "cell_type": "code",
   "execution_count": null,
   "metadata": {},
   "outputs": [
    {
     "ename": "NameError",
     "evalue": "name 'X' is not defined",
     "output_type": "error",
     "traceback": [
      "\u001b[0;31m---------------------------------------------------------------------------\u001b[0m",
      "\u001b[0;31mNameError\u001b[0m                                 Traceback (most recent call last)",
      "\u001b[1;32m/HajiyevH/Kaggle_Competition/House-Prices-Regression-with-different-solutrions.ipynb Cell 17\u001b[0m line \u001b[0;36m3\n\u001b[1;32m      <a href='vscode-notebook-cell://github/HajiyevH/Kaggle_Competition/House-Prices-Regression-with-different-solutrions.ipynb#X21sdnNjb2RlLXZmcw%3D%3D?line=0'>1</a>\u001b[0m \u001b[39mfrom\u001b[39;00m \u001b[39msklearn\u001b[39;00m\u001b[39m.\u001b[39;00m\u001b[39mlinear_model\u001b[39;00m \u001b[39mimport\u001b[39;00m ElasticNet\n\u001b[1;32m      <a href='vscode-notebook-cell://github/HajiyevH/Kaggle_Competition/House-Prices-Regression-with-different-solutrions.ipynb#X21sdnNjb2RlLXZmcw%3D%3D?line=1'>2</a>\u001b[0m enet \u001b[39m=\u001b[39m ElasticNet(alpha\u001b[39m=\u001b[39m\u001b[39m0.2\u001b[39m, l1_ratio\u001b[39m=\u001b[39m\u001b[39m0.7\u001b[39m)\n\u001b[0;32m----> <a href='vscode-notebook-cell://github/HajiyevH/Kaggle_Competition/House-Prices-Regression-with-different-solutrions.ipynb#X21sdnNjb2RlLXZmcw%3D%3D?line=2'>3</a>\u001b[0m enet\u001b[39m.\u001b[39mfit(X , Y)\n",
      "\u001b[0;31mNameError\u001b[0m: name 'X' is not defined"
     ]
    }
   ],
   "source": [
    "from sklearn.linear_model import ElasticNet\n",
    "enet = ElasticNet(alpha=0.2, l1_ratio=0.7)\n",
    "enet.fit(X , Y)"
   ]
  },
  {
   "cell_type": "code",
   "execution_count": null,
   "metadata": {},
   "outputs": [
    {
     "data": {
      "text/html": [
       "<div>\n",
       "<style scoped>\n",
       "    .dataframe tbody tr th:only-of-type {\n",
       "        vertical-align: middle;\n",
       "    }\n",
       "\n",
       "    .dataframe tbody tr th {\n",
       "        vertical-align: top;\n",
       "    }\n",
       "\n",
       "    .dataframe thead th {\n",
       "        text-align: right;\n",
       "    }\n",
       "</style>\n",
       "<table border=\"1\" class=\"dataframe\">\n",
       "  <thead>\n",
       "    <tr style=\"text-align: right;\">\n",
       "      <th></th>\n",
       "      <th>Id</th>\n",
       "      <th>SalePrice</th>\n",
       "    </tr>\n",
       "  </thead>\n",
       "  <tbody>\n",
       "    <tr>\n",
       "      <th>0</th>\n",
       "      <td>1461</td>\n",
       "      <td>105283.087437</td>\n",
       "    </tr>\n",
       "    <tr>\n",
       "      <th>1</th>\n",
       "      <td>1462</td>\n",
       "      <td>145530.932080</td>\n",
       "    </tr>\n",
       "    <tr>\n",
       "      <th>2</th>\n",
       "      <td>1463</td>\n",
       "      <td>177076.219438</td>\n",
       "    </tr>\n",
       "    <tr>\n",
       "      <th>3</th>\n",
       "      <td>1464</td>\n",
       "      <td>189441.748577</td>\n",
       "    </tr>\n",
       "    <tr>\n",
       "      <th>4</th>\n",
       "      <td>1465</td>\n",
       "      <td>210815.814608</td>\n",
       "    </tr>\n",
       "  </tbody>\n",
       "</table>\n",
       "</div>"
      ],
      "text/plain": [
       "     Id      SalePrice\n",
       "0  1461  105283.087437\n",
       "1  1462  145530.932080\n",
       "2  1463  177076.219438\n",
       "3  1464  189441.748577\n",
       "4  1465  210815.814608"
      ]
     },
     "execution_count": 425,
     "metadata": {},
     "output_type": "execute_result"
    }
   ],
   "source": [
    "\n",
    "\n",
    "filename = \"/Users/hajiaga/Documents/house-prices-advanced-regression-techniques-2/sample_submission2.csv\"\n",
    "import os\n",
    "\n",
    "test_ohe = ct.transform(test)\n",
    "\n",
    "test_pred = enet.predict(test_ohe)\n",
    "\n",
    "sample_submission['SalePrice'] = pd.Series(test_pred)\n",
    "\n",
    "if os.path.exists(filename):\n",
    "    os.remove(filename)\n",
    "sample_submission.to_csv(filename, index=False) \n",
    "sample_submission.head()"
   ]
  }
 ],
 "metadata": {
  "kernelspec": {
   "display_name": "unsupervisedLearning",
   "language": "python",
   "name": "python3"
  },
  "language_info": {
   "codemirror_mode": {
    "name": "ipython",
    "version": 3
   },
   "file_extension": ".py",
   "mimetype": "text/x-python",
   "name": "python",
   "nbconvert_exporter": "python",
   "pygments_lexer": "ipython3",
   "version": "3.11.4"
  }
 },
 "nbformat": 4,
 "nbformat_minor": 2
}
