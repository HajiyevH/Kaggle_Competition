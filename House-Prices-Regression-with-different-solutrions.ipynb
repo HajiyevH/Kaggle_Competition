{
 "cells": [
  {
   "cell_type": "code",
   "execution_count": 161,
   "metadata": {},
   "outputs": [],
   "source": [
    "import warnings \n",
    "warnings.filterwarnings(\"ignore\")\n",
    "from sklearn.linear_model import ElasticNet\n",
    "\n",
    "import pandas as pd\n",
    "import numpy as np\n",
    "import seaborn as sns\n",
    "import matplotlib.pyplot as plt\n",
    "from sklearn.preprocessing import OneHotEncoder , PolynomialFeatures, Normalizer ,normalize\n",
    "from sklearn.linear_model import LinearRegression \n",
    "from sklearn.metrics import mean_squared_error \n",
    "from sklearn.model_selection import train_test_split ,cross_val_score\n",
    "from sklearn.neighbors import KNeighborsClassifier\n",
    "from sklearn.compose import ColumnTransformer\n",
    "from sklearn.ensemble import RandomForestRegressor , GradientBoostingRegressor\n",
    "from scipy.stats import skew\n",
    "train = pd.read_csv('/Users/hajiaga/Documents/house-prices-advanced-regression-techniques-2/train.csv')\n",
    "test = pd.read_csv('/Users/hajiaga/Documents/house-prices-advanced-regression-techniques-2/test.csv')\n",
    "sample_submission = pd.read_csv('/Users/hajiaga/Documents/house-prices-advanced-regression-techniques-2/sample_submission.csv')"
   ]
  },
  {
   "cell_type": "code",
   "execution_count": 162,
   "metadata": {},
   "outputs": [],
   "source": [
    "\n",
    "data = pd.concat([train , test] , axis= 0)\n",
    "test_id = test[\"Id\"]\n",
    "data.drop([\"Id\"] ,axis=1, inplace=True)\n",
    "data[\"Age\"] = data[\"YrSold\"] - data[\"YearBuilt\"]\n",
    "data[\"Agere\"] = data[\"YrSold\"] - data[\"YearRemodAdd\"]\n",
    "data[\"yaxsi\"] = data[\"1stFlrSF\"]+data[\"2ndFlrSF\"]-data[\"LowQualFinSF\"]\n",
    "data[\"umumi\"] = data[\"1stFlrSF\"]+data[\"2ndFlrSF\"]\n",
    "data[\"LotFrontage\"] = data.groupby(\"Neighborhood\")[\"LotFrontage\"].transform(lambda x: x.fillna(x.median()))\n",
    "data['SaleType'] = data['SaleType'].fillna(data['SaleType'].mode()[0])\n",
    "data['MSSubClass'] = data['MSSubClass'].apply(str)\n",
    "data['MoSold'] = data['MoSold'].astype(str)\n",
    "\n"
   ]
  },
  {
   "cell_type": "code",
   "execution_count": 163,
   "metadata": {},
   "outputs": [],
   "source": [
    "str_cols = data.select_dtypes(\"O\").columns\n",
    "num_cols = data.select_dtypes(\"number\").columns\n",
    "num_cols = list(num_cols)\n",
    "num_cols.append(\"Agere\")\n",
    "no_cols = [\"MiscFeature\" , \"Fence\" , \"GarageCond\" , \"GarageQual\" , \"GarageFinish\" , \"FireplaceQu\" , \"BsmtFinType2\" , \"BsmtExposure\", \"BsmtCond\" , \"BsmtQual\" , \"Alley\"]\n",
    "for col in data.columns:\n",
    "    if col != \"SalePrice\":\n",
    "        if col in no_cols:\n",
    "            data[col]=data[col].fillna(\"None\")\n",
    "        elif col in str_cols:\n",
    "            data[col]=data[col].fillna(data[col].mode()[0])\n",
    "        elif col in num_cols:\n",
    "            data[col]=data[col].fillna(0)\n",
    "np.array(no_cols)\n",
    "data[\"TotalHouse\"] = data[\"TotalBsmtSF\"] + data[\"1stFlrSF\"] + data[\"2ndFlrSF\"]   \n",
    "data[\"qualtot\"] = data[\"TotalHouse\"] * data[\"OverallQual\"]\n"
   ]
  },
  {
   "cell_type": "code",
   "execution_count": 164,
   "metadata": {},
   "outputs": [],
   "source": [
    "def detect_outliers(df,col):\n",
    "    Q1 = df[col].quantile(0.005)\n",
    "    Q3 = df[col].quantile(0.995)\n",
    "    IQR = Q3-Q1\n",
    "    lwr_bnd = Q1 - IQR*1.5\n",
    "    hgh_bnd= Q3 + IQR*1.5\n",
    "    df.drop(df[df[col]>hgh_bnd].index ,axis =0, inplace=True)\n",
    "    df.drop(df[df[col]<lwr_bnd].index , axis = 0, inplace=True)\n"
   ]
  },
  {
   "cell_type": "code",
   "execution_count": 165,
   "metadata": {},
   "outputs": [],
   "source": [
    "ohe  = OneHotEncoder(drop = \"first\")\n",
    "ohe.fit(data[str_cols])\n",
    "ohe_data=ohe.transform(data[str_cols]).toarray()\n",
    "ohe_df = pd.DataFrame(ohe_data , columns = ohe.get_feature_names_out())"
   ]
  },
  {
   "cell_type": "code",
   "execution_count": 166,
   "metadata": {},
   "outputs": [],
   "source": [
    "if list(str_cols) in list(data.columns):\n",
    "    data.drop(str_cols , inplace=True ,axis = 1)\n",
    "data.index=range(len(data))\n",
    "\n",
    "ohe_df.index=range(len(ohe_df))"
   ]
  },
  {
   "cell_type": "code",
   "execution_count": 167,
   "metadata": {},
   "outputs": [],
   "source": [
    "data=pd.concat([data, ohe_df], axis=1)"
   ]
  },
  {
   "cell_type": "code",
   "execution_count": 168,
   "metadata": {},
   "outputs": [],
   "source": [
    "# ct = ColumnTransformer(transformers=[( \"poly\" ,PolynomialFeatures(degree=2), a.select_dtypes(include=['number']).columns)], remainder='passthrough')\n",
    "# ct.fit_transform(data)\n"
   ]
  },
  {
   "cell_type": "code",
   "execution_count": 169,
   "metadata": {},
   "outputs": [],
   "source": [
    "# cte = ColumnTransformer(transformers=[( \"poly\" ,PolynomialFeatures(degree=2), pd.Series((list(data.select_dtypes(include=['number']).columns).remove(\"SalePrice\"))).astype(\"O\"))], remainder='passthrough')\n",
    "# cte.fit_transform(data)\n",
    "# data.select_dtypes(\"number\")"
   ]
  },
  {
   "cell_type": "markdown",
   "metadata": {},
   "source": [
    "skewed_feats = data[num_cols].apply(lambda x: skew(x.dropna())).sort_values(ascending=False)\n",
    "skewness = pd.DataFrame({'Skew' :skewed_feats})\n",
    "skewness = skewness[abs(skewness) > 0.75]\n",
    "skewness.head()\n",
    "from scipy.special import boxcox1p\n",
    "skewed_features = skewness.index\n",
    "for col in skewed_features:\n",
    "    data[col] = normalize([np.array(data[col])])\n",
    "skewed_feats = abs(data[num_cols].apply(lambda x: skew(x.dropna()))).sort_values(ascending=False)\n",
    "abs(skewed_feats).head(30)\n",
    "\n"
   ]
  },
  {
   "cell_type": "code",
   "execution_count": 170,
   "metadata": {},
   "outputs": [],
   "source": [
    "\n",
    "train=data[data['SalePrice'].notnull()]\n",
    "for col in list(num_cols):\n",
    "    detect_outliers(train,col)\n",
    "test=data[data['SalePrice'].isnull()]\n",
    "test.drop(['SalePrice'] , inplace=True , axis = 1)\n",
    "\n",
    "X=train.drop('SalePrice', axis=1)\n",
    "Y=train['SalePrice']\n"
   ]
  },
  {
   "cell_type": "code",
   "execution_count": 171,
   "metadata": {},
   "outputs": [],
   "source": [
    "ct = ColumnTransformer([('encoder', OneHotEncoder(handle_unknown='ignore'), X.select_dtypes(include=['object']).columns)], remainder='passthrough')\n",
    "X = ct.fit_transform(X)\n",
    "\n",
    "X_train , X_test , Y_train , Y_test = train_test_split(X , Y , test_size=0.3 , random_state=42)\n",
    "test= ct.transform(test)\n"
   ]
  },
  {
   "cell_type": "code",
   "execution_count": 172,
   "metadata": {},
   "outputs": [],
   "source": [
    "def Poly_F(x , y , i , test ):\n",
    "    pf = PolynomialFeatures(degree=i)\n",
    "    pf.fit(x)\n",
    "    x_poly = pd.DataFrame(pf.transform(x) , columns = pf.get_feature_names_out())\n",
    "    pfe = PolynomialFeatures(degree=i)\n",
    "    pfe.fit(test)\n",
    "    test = pd.DataFrame(pfe.transform(test) , columns = pfe.get_feature_names_out())\n",
    "\n",
    "    X_train , X_test , Y_train , Y_test = train_test_split(x_poly , y , test_size=0.3 , random_state=42)\n",
    "    lr = LinearRegression()\n",
    "    lr.fit(X_train , Y_train)\n",
    "    # rmse_t = np.sqrt(mean_squared_error(Y_train , lr.predict(X_train)))\n",
    "    # rmse= np.sqrt(mean_squared_error(Y_test , lr.predict(X_test)))\n",
    "    return lr.predict(test)"
   ]
  },
  {
   "cell_type": "code",
   "execution_count": 173,
   "metadata": {},
   "outputs": [],
   "source": [
    "# def enet(x , y , i , j):\n",
    "#     enet = ElasticNet(alpha= i  , l1_ratio=j)\n",
    "#     X_train , X_test , Y_train , Y_test = train_test_split(x , y , test_size=0.25 , random_state=42)\n",
    "#     enet.fit(X_train , Y_train)\n",
    "#     rmse_t = np.sqrt(mean_squared_error(Y_train , enet.predict(X_train)))\n",
    "#     rmse= np.sqrt(mean_squared_error(Y_test , enet.predict(X_test)))\n",
    "#     return rmse_t , rmse , i , j"
   ]
  },
  {
   "cell_type": "code",
   "execution_count": 174,
   "metadata": {},
   "outputs": [],
   "source": [
    "# best_enet = {}\n",
    "# best_enet = dict(best_enet)\n",
    "# best_enety = {}\n",
    "# best_enety = dict(best_enety)\n",
    "# for i in [5,20,80]:\n",
    "#     for j in [5,20,80]:\n",
    "#         a , b , c , d= enet(X ,Y ,i/100 , j/100)\n",
    "#         best_enet[f\" i {c} , j {d}\"] = b\n",
    "#         best_enety[f\" i {c} , j {d}\"] = a\n"
   ]
  },
  {
   "cell_type": "code",
   "execution_count": 175,
   "metadata": {},
   "outputs": [],
   "source": [
    "# print(print(min(best_enet, key=best_enet.get)))\n",
    "# print(print(min(best_enety, key=best_enety.get)))\n",
    "# print(best_enet )"
   ]
  },
  {
   "cell_type": "code",
   "execution_count": 176,
   "metadata": {},
   "outputs": [
    {
     "name": "stdout",
     "output_type": "stream",
     "text": [
      "SalePrice 0.9993150684931507\n"
     ]
    }
   ],
   "source": [
    "#KNN - 0.39\n",
    "#knn = KNeighborsClassifier()\n",
    "#knn.fit(X_train , Y_train)\n",
    "for col in data:\n",
    "    if data[col].isnull().sum()/data[col].count()>0:\n",
    "        print(col ,data[col].isnull().sum()/data[col].count() )"
   ]
  },
  {
   "cell_type": "code",
   "execution_count": 177,
   "metadata": {},
   "outputs": [
    {
     "data": {
      "text/html": [
       "<style>#sk-container-id-7 {color: black;}#sk-container-id-7 pre{padding: 0;}#sk-container-id-7 div.sk-toggleable {background-color: white;}#sk-container-id-7 label.sk-toggleable__label {cursor: pointer;display: block;width: 100%;margin-bottom: 0;padding: 0.3em;box-sizing: border-box;text-align: center;}#sk-container-id-7 label.sk-toggleable__label-arrow:before {content: \"▸\";float: left;margin-right: 0.25em;color: #696969;}#sk-container-id-7 label.sk-toggleable__label-arrow:hover:before {color: black;}#sk-container-id-7 div.sk-estimator:hover label.sk-toggleable__label-arrow:before {color: black;}#sk-container-id-7 div.sk-toggleable__content {max-height: 0;max-width: 0;overflow: hidden;text-align: left;background-color: #f0f8ff;}#sk-container-id-7 div.sk-toggleable__content pre {margin: 0.2em;color: black;border-radius: 0.25em;background-color: #f0f8ff;}#sk-container-id-7 input.sk-toggleable__control:checked~div.sk-toggleable__content {max-height: 200px;max-width: 100%;overflow: auto;}#sk-container-id-7 input.sk-toggleable__control:checked~label.sk-toggleable__label-arrow:before {content: \"▾\";}#sk-container-id-7 div.sk-estimator input.sk-toggleable__control:checked~label.sk-toggleable__label {background-color: #d4ebff;}#sk-container-id-7 div.sk-label input.sk-toggleable__control:checked~label.sk-toggleable__label {background-color: #d4ebff;}#sk-container-id-7 input.sk-hidden--visually {border: 0;clip: rect(1px 1px 1px 1px);clip: rect(1px, 1px, 1px, 1px);height: 1px;margin: -1px;overflow: hidden;padding: 0;position: absolute;width: 1px;}#sk-container-id-7 div.sk-estimator {font-family: monospace;background-color: #f0f8ff;border: 1px dotted black;border-radius: 0.25em;box-sizing: border-box;margin-bottom: 0.5em;}#sk-container-id-7 div.sk-estimator:hover {background-color: #d4ebff;}#sk-container-id-7 div.sk-parallel-item::after {content: \"\";width: 100%;border-bottom: 1px solid gray;flex-grow: 1;}#sk-container-id-7 div.sk-label:hover label.sk-toggleable__label {background-color: #d4ebff;}#sk-container-id-7 div.sk-serial::before {content: \"\";position: absolute;border-left: 1px solid gray;box-sizing: border-box;top: 0;bottom: 0;left: 50%;z-index: 0;}#sk-container-id-7 div.sk-serial {display: flex;flex-direction: column;align-items: center;background-color: white;padding-right: 0.2em;padding-left: 0.2em;position: relative;}#sk-container-id-7 div.sk-item {position: relative;z-index: 1;}#sk-container-id-7 div.sk-parallel {display: flex;align-items: stretch;justify-content: center;background-color: white;position: relative;}#sk-container-id-7 div.sk-item::before, #sk-container-id-7 div.sk-parallel-item::before {content: \"\";position: absolute;border-left: 1px solid gray;box-sizing: border-box;top: 0;bottom: 0;left: 50%;z-index: -1;}#sk-container-id-7 div.sk-parallel-item {display: flex;flex-direction: column;z-index: 1;position: relative;background-color: white;}#sk-container-id-7 div.sk-parallel-item:first-child::after {align-self: flex-end;width: 50%;}#sk-container-id-7 div.sk-parallel-item:last-child::after {align-self: flex-start;width: 50%;}#sk-container-id-7 div.sk-parallel-item:only-child::after {width: 0;}#sk-container-id-7 div.sk-dashed-wrapped {border: 1px dashed gray;margin: 0 0.4em 0.5em 0.4em;box-sizing: border-box;padding-bottom: 0.4em;background-color: white;}#sk-container-id-7 div.sk-label label {font-family: monospace;font-weight: bold;display: inline-block;line-height: 1.2em;}#sk-container-id-7 div.sk-label-container {text-align: center;}#sk-container-id-7 div.sk-container {/* jupyter's `normalize.less` sets `[hidden] { display: none; }` but bootstrap.min.css set `[hidden] { display: none !important; }` so we also need the `!important` here to be able to override the default hidden behavior on the sphinx rendered scikit-learn.org. See: https://github.com/scikit-learn/scikit-learn/issues/21755 */display: inline-block !important;position: relative;}#sk-container-id-7 div.sk-text-repr-fallback {display: none;}</style><div id=\"sk-container-id-7\" class=\"sk-top-container\"><div class=\"sk-text-repr-fallback\"><pre>LinearRegression()</pre><b>In a Jupyter environment, please rerun this cell to show the HTML representation or trust the notebook. <br />On GitHub, the HTML representation is unable to render, please try loading this page with nbviewer.org.</b></div><div class=\"sk-container\" hidden><div class=\"sk-item\"><div class=\"sk-estimator sk-toggleable\"><input class=\"sk-toggleable__control sk-hidden--visually\" id=\"sk-estimator-id-7\" type=\"checkbox\" checked><label for=\"sk-estimator-id-7\" class=\"sk-toggleable__label sk-toggleable__label-arrow\">LinearRegression</label><div class=\"sk-toggleable__content\"><pre>LinearRegression()</pre></div></div></div></div></div>"
      ],
      "text/plain": [
       "LinearRegression()"
      ]
     },
     "execution_count": 177,
     "metadata": {},
     "output_type": "execute_result"
    }
   ],
   "source": [
    "#Poly degree 2\n",
    "lr = LinearRegression()\n",
    "lr.fit(X , Y)\n"
   ]
  },
  {
   "cell_type": "code",
   "execution_count": 178,
   "metadata": {},
   "outputs": [],
   "source": [
    "# Skewed data nedi oyrenirem"
   ]
  },
  {
   "cell_type": "code",
   "execution_count": null,
   "metadata": {},
   "outputs": [],
   "source": []
  },
  {
   "cell_type": "code",
   "execution_count": null,
   "metadata": {},
   "outputs": [],
   "source": []
  },
  {
   "cell_type": "code",
   "execution_count": 179,
   "metadata": {},
   "outputs": [],
   "source": [
    "from sklearn.model_selection import KFold, cross_val_score, train_test_split\n",
    "\n",
    "def rmsle_cv(model):\n",
    "    kf = KFold(5, shuffle=True, random_state=42).get_n_splits(X)\n",
    "    rmse= np.sqrt(-cross_val_score(model, X, Y, scoring=\"neg_mean_squared_error\", cv = kf))\n",
    "    return(rmse)"
   ]
  },
  {
   "cell_type": "code",
   "execution_count": 192,
   "metadata": {},
   "outputs": [
    {
     "name": "stdout",
     "output_type": "stream",
     "text": [
      "Kernel Ridge score: 37794.4099 (6672.3346)\n",
      "\n"
     ]
    }
   ],
   "source": [
    "from sklearn.linear_model import ElasticNet, Lasso\n",
    "from sklearn.pipeline import make_pipeline\n",
    "from sklearn.preprocessing import RobustScaler , StandardScaler\n",
    "\n",
    "lasso = make_pipeline(Normalizer(), Lasso(alpha =0.0005, random_state=1))\n",
    "LassoMd = lasso.fit(X,Y)\n",
    "score = rmsle_cv(lasso)\n",
    "print(\"Kernel Ridge score: {:.4f} ({:.4f})\\n\".format(score.mean(), score.std()))\n"
   ]
  },
  {
   "cell_type": "code",
   "execution_count": 200,
   "metadata": {},
   "outputs": [
    {
     "data": {
      "text/plain": [
       "26270.7093"
      ]
     },
     "execution_count": 200,
     "metadata": {},
     "output_type": "execute_result"
    }
   ],
   "source": [
    "enet = ElasticNet(alpha=0.4,l1_ratio=0.9,max_iter=10000 )\n",
    "enet.fit(X , Y)\n",
    "\n",
    "26270.7093"
   ]
  },
  {
   "cell_type": "code",
   "execution_count": 202,
   "metadata": {},
   "outputs": [
    {
     "name": "stdout",
     "output_type": "stream",
     "text": [
      "Kernel Ridge score: 25851.9697 (5027.7773)\n",
      "\n"
     ]
    },
    {
     "data": {
      "text/plain": [
       "28086.0158"
      ]
     },
     "execution_count": 202,
     "metadata": {},
     "output_type": "execute_result"
    }
   ],
   "source": [
    "ENet = make_pipeline(RobustScaler(), ElasticNet(alpha=0.4, l1_ratio=.9, max_iter=10000 ))\n",
    "enet = ENet.fit(X,Y)\n",
    "score = rmsle_cv(ENet)\n",
    "print(\"Kernel Ridge score: {:.4f} ({:.4f})\\n\".format(score.mean(), score.std()))\n",
    "28086.0158"
   ]
  },
  {
   "cell_type": "code",
   "execution_count": 203,
   "metadata": {},
   "outputs": [
    {
     "data": {
      "text/html": [
       "<div>\n",
       "<style scoped>\n",
       "    .dataframe tbody tr th:only-of-type {\n",
       "        vertical-align: middle;\n",
       "    }\n",
       "\n",
       "    .dataframe tbody tr th {\n",
       "        vertical-align: top;\n",
       "    }\n",
       "\n",
       "    .dataframe thead th {\n",
       "        text-align: right;\n",
       "    }\n",
       "</style>\n",
       "<table border=\"1\" class=\"dataframe\">\n",
       "  <thead>\n",
       "    <tr style=\"text-align: right;\">\n",
       "      <th></th>\n",
       "      <th>Id</th>\n",
       "      <th>SalePrice</th>\n",
       "    </tr>\n",
       "  </thead>\n",
       "  <tbody>\n",
       "    <tr>\n",
       "      <th>0</th>\n",
       "      <td>1461</td>\n",
       "      <td>116559.922222</td>\n",
       "    </tr>\n",
       "    <tr>\n",
       "      <th>1</th>\n",
       "      <td>1462</td>\n",
       "      <td>196536.925679</td>\n",
       "    </tr>\n",
       "    <tr>\n",
       "      <th>2</th>\n",
       "      <td>1463</td>\n",
       "      <td>182036.972616</td>\n",
       "    </tr>\n",
       "    <tr>\n",
       "      <th>3</th>\n",
       "      <td>1464</td>\n",
       "      <td>197219.156298</td>\n",
       "    </tr>\n",
       "    <tr>\n",
       "      <th>4</th>\n",
       "      <td>1465</td>\n",
       "      <td>198388.260881</td>\n",
       "    </tr>\n",
       "  </tbody>\n",
       "</table>\n",
       "</div>"
      ],
      "text/plain": [
       "     Id      SalePrice\n",
       "0  1461  116559.922222\n",
       "1  1462  196536.925679\n",
       "2  1463  182036.972616\n",
       "3  1464  197219.156298\n",
       "4  1465  198388.260881"
      ]
     },
     "execution_count": 203,
     "metadata": {},
     "output_type": "execute_result"
    }
   ],
   "source": [
    "\n",
    "\n",
    "filename = \"/Users/hajiaga/Documents/house-prices-advanced-regression-techniques-2/sample_submission2.csv\"\n",
    "import os\n",
    "test_pred =enet.predict(test)\n",
    "sample_submission['SalePrice'] = test_pred\n",
    "if os.path.exists(filename):\n",
    "    os.remove(filename)\n",
    "sample_submission.to_csv(filename, index=False) \n",
    "sample_submission.head()\n"
   ]
  }
 ],
 "metadata": {
  "kernelspec": {
   "display_name": "unsupervisedLearning",
   "language": "python",
   "name": "python3"
  },
  "language_info": {
   "codemirror_mode": {
    "name": "ipython",
    "version": 3
   },
   "file_extension": ".py",
   "mimetype": "text/x-python",
   "name": "python",
   "nbconvert_exporter": "python",
   "pygments_lexer": "ipython3",
   "version": "3.11.4"
  }
 },
 "nbformat": 4,
 "nbformat_minor": 2
}
