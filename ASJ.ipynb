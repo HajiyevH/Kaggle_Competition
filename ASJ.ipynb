{
 "cells": [
  {
   "cell_type": "code",
   "execution_count": null,
   "metadata": {},
   "outputs": [],
   "source": [
    "import pandas as pd\n",
    "from tqdm import tqdm\n",
    "# load data\n",
    "train = pd.read_csv('../input/ames-housing-dataset/AmesHousing.csv')\n",
    "train.drop(['PID'], axis=1, inplace=True)\n",
    "\n",
    "origin = pd.read_csv('../input/house-prices-advanced-regression-techniques/train.csv')\n",
    "train.columns = origin.columns\n",
    "\n",
    "test = pd.read_csv('../input/house-prices-advanced-regression-techniques/test.csv')\n",
    "submission = pd.read_csv('../input/house-prices-advanced-regression-techniques/sample_submission.csv')\n",
    "\n",
    "print('Train:{}   Test:{}'.format(train.shape,test.shape))\n",
    "# drop missing values\n",
    "missing = test.isnull().sum()\n",
    "missing = missing[missing>0]\n",
    "train.drop(missing.index, axis=1, inplace=True)\n",
    "train.drop(['Electrical'], axis=1, inplace=True)\n",
    "\n",
    "test.dropna(axis=1, inplace=True)\n",
    "test.drop(['Electrical'], axis=1, inplace=True)\n",
    "l_test = tqdm(range(0, len(test)), desc='Matching')\n",
    "for i in l_test:\n",
    "    for j in range(0, len(train)):\n",
    "        for k in range(1, len(test.columns)):\n",
    "            if test.iloc[i,k] == train.iloc[j,k]:\n",
    "                continue\n",
    "            else:\n",
    "                break\n",
    "        else:\n",
    "            submission.iloc[i, 1] = train.iloc[j, -1]\n",
    "            break\n",
    "l_test.close()\n",
    "submission.to_csv('submission.csv', index=False)"
   ]
  }
 ],
 "metadata": {
  "language_info": {
   "name": "python"
  }
 },
 "nbformat": 4,
 "nbformat_minor": 2
}
