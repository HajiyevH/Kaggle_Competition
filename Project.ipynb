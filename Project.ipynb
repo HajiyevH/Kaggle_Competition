{
 "cells": [
  {
   "cell_type": "code",
   "execution_count": null,
   "metadata": {},
   "outputs": [],
   "source": [
    "import pandas as pd\n",
    "import numpy as np\n",
    "import matplotlib.pyplot as plt\n",
    "import seaborn as sns\n",
    "import warnings \n",
    "from sklearn.feature_extraction.text import TfidfVectorizer\n",
    "import re\n",
    "warnings.filterwarnings(\"ignore\")\n",
    "data_ratings = pd.read_csv(\"/Users/hajiaga/Downloads/ratings_small.csv\")\n",
    "keywords = pd.read_csv(\"/Users/hajiaga/Downloads/keywords.csv\")\n",
    "metadata = pd.read_csv(\"/Users/hajiaga/Downloads/movies_metadata.csv\")\n",
    "metadata[\"title\"] = metadata[\"original_title\"] + \" \" + metadata[\"release_date\"].str[:4]\n",
    "metadata = metadata[[\"id\",\"title\",\"genres\"]]\n",
    "\n",
    "data_ratings.drop([\"timestamp\"], inplace=True, axis=1)"
   ]
  },
  {
   "cell_type": "code",
   "execution_count": 3,
   "metadata": {},
   "outputs": [
    {
     "data": {
      "text/plain": [
       "[912,\n",
       " 4226,\n",
       " 1219,\n",
       " 2918,\n",
       " 260,\n",
       " 805,\n",
       " 318,\n",
       " 1291,\n",
       " 1259,\n",
       " 110,\n",
       " 1617,\n",
       " 8622,\n",
       " 1302,\n",
       " 903,\n",
       " 904]"
      ]
     },
     "execution_count": 3,
     "metadata": {},
     "output_type": "execute_result"
    }
   ],
   "source": [
    "def evaluate(df, id, rate):\n",
    "    bestfilms = pd.DataFrame({\n",
    "        'movie_id': np.unique(df[\"movieId\"]),\n",
    "        'count': [0] * len(np.unique(df[\"movieId\"]))})\n",
    "    dfr = np.unique(df.loc[(df[\"movieId\"] == id) & (df[\"rating\"] === rate)][\"userId\"])\n",
    "    values = df.loc[(df[\"userId\"].isin(dfr)) & (df[\"rating\"] >= 4)][\"movieId\"].value_counts()\n",
    "\n",
    "    for movie_id, count in values.items():\n",
    "        bestfilms.loc[bestfilms[\"movie_id\"] == movie_id, \"count\"] += count\n",
    "    bestfilms.set_index([\"movie_id\"])\n",
    "    return bestfilms\n",
    "\n",
    "result = evaluate(data_ratings, id=31, rate=2.5)\n",
    "list(result.sort_values(\"count\" , ascending=False)[:15][\"movie_id\"])\n"
   ]
  },
  {
   "cell_type": "code",
   "execution_count": 4,
   "metadata": {},
   "outputs": [
    {
     "data": {
      "text/html": [
       "<div>\n",
       "<style scoped>\n",
       "    .dataframe tbody tr th:only-of-type {\n",
       "        vertical-align: middle;\n",
       "    }\n",
       "\n",
       "    .dataframe tbody tr th {\n",
       "        vertical-align: top;\n",
       "    }\n",
       "\n",
       "    .dataframe thead th {\n",
       "        text-align: right;\n",
       "    }\n",
       "</style>\n",
       "<table border=\"1\" class=\"dataframe\">\n",
       "  <thead>\n",
       "    <tr style=\"text-align: right;\">\n",
       "      <th></th>\n",
       "      <th>movie_id</th>\n",
       "      <th>count</th>\n",
       "    </tr>\n",
       "  </thead>\n",
       "  <tbody>\n",
       "    <tr>\n",
       "      <th>0</th>\n",
       "      <td>1</td>\n",
       "      <td>0</td>\n",
       "    </tr>\n",
       "    <tr>\n",
       "      <th>1</th>\n",
       "      <td>2</td>\n",
       "      <td>0</td>\n",
       "    </tr>\n",
       "    <tr>\n",
       "      <th>2</th>\n",
       "      <td>3</td>\n",
       "      <td>0</td>\n",
       "    </tr>\n",
       "    <tr>\n",
       "      <th>3</th>\n",
       "      <td>4</td>\n",
       "      <td>0</td>\n",
       "    </tr>\n",
       "    <tr>\n",
       "      <th>4</th>\n",
       "      <td>5</td>\n",
       "      <td>0</td>\n",
       "    </tr>\n",
       "    <tr>\n",
       "      <th>...</th>\n",
       "      <td>...</td>\n",
       "      <td>...</td>\n",
       "    </tr>\n",
       "    <tr>\n",
       "      <th>9061</th>\n",
       "      <td>161944</td>\n",
       "      <td>0</td>\n",
       "    </tr>\n",
       "    <tr>\n",
       "      <th>9062</th>\n",
       "      <td>162376</td>\n",
       "      <td>0</td>\n",
       "    </tr>\n",
       "    <tr>\n",
       "      <th>9063</th>\n",
       "      <td>162542</td>\n",
       "      <td>0</td>\n",
       "    </tr>\n",
       "    <tr>\n",
       "      <th>9064</th>\n",
       "      <td>162672</td>\n",
       "      <td>0</td>\n",
       "    </tr>\n",
       "    <tr>\n",
       "      <th>9065</th>\n",
       "      <td>163949</td>\n",
       "      <td>0</td>\n",
       "    </tr>\n",
       "  </tbody>\n",
       "</table>\n",
       "<p>9066 rows × 2 columns</p>\n",
       "</div>"
      ],
      "text/plain": [
       "      movie_id  count\n",
       "0            1      0\n",
       "1            2      0\n",
       "2            3      0\n",
       "3            4      0\n",
       "4            5      0\n",
       "...        ...    ...\n",
       "9061    161944      0\n",
       "9062    162376      0\n",
       "9063    162542      0\n",
       "9064    162672      0\n",
       "9065    163949      0\n",
       "\n",
       "[9066 rows x 2 columns]"
      ]
     },
     "execution_count": 4,
     "metadata": {},
     "output_type": "execute_result"
    }
   ],
   "source": [
    "evaluate(data_ratings,id=31,rate=2.5)"
   ]
  }
 ],
 "metadata": {
  "kernelspec": {
   "display_name": "unsupervisedLearning",
   "language": "python",
   "name": "python3"
  },
  "language_info": {
   "codemirror_mode": {
    "name": "ipython",
    "version": 3
   },
   "file_extension": ".py",
   "mimetype": "text/x-python",
   "name": "python",
   "nbconvert_exporter": "python",
   "pygments_lexer": "ipython3",
   "version": "3.11.4"
  }
 },
 "nbformat": 4,
 "nbformat_minor": 2
}
