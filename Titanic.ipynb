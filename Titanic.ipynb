{
 "cells": [
  {
   "cell_type": "code",
   "execution_count": 471,
   "metadata": {},
   "outputs": [],
   "source": [
    "import pandas as pd\n",
    "import numpy as np\n",
    "import matplotlib.pyplot as plt\n",
    "import seaborn as sns\n",
    "from sklearn.linear_model import LogisticRegression ,LogisticRegressionCV\n",
    "from sklearn.model_selection import train_test_split\n",
    "from sklearn.metrics import r2_score, mean_squared_error ,accuracy_score\n",
    "from sklearn.pipeline import Pipeline\n",
    "from sklearn.compose import ColumnTransformer\n",
    "from sklearn.preprocessing import OneHotEncoder,LabelEncoder\n",
    "from statistics import mode\n",
    "gnd = \n",
    "tr = pd.read_csv(\"/Users/hajiaga/Downloads/titanic/train.csv\")\n",
    "te = pd.read_csv(\"/Users/hajiaga/Downloads/titanic/test.csv\")"
   ]
  },
  {
   "cell_type": "code",
   "execution_count": 472,
   "metadata": {},
   "outputs": [],
   "source": [
    "data = pd.concat([tr,te],axis = 0)\n",
    "data.drop([\"PassengerId\",\"Name\",\"Ticket\",\"Cabin\",\"Embarked\"],axis=1,inplace=True)\n"
   ]
  },
  {
   "cell_type": "code",
   "execution_count": 473,
   "metadata": {},
   "outputs": [],
   "source": [
    "def detect_outliers(data,col):\n",
    "    Q1 = data[col].quantile(0.05)\n",
    "    Q2 = data[col].quantile(0.95)\n",
    "    IQR = Q2-Q1\n",
    "    lower_bound = Q1-IQR*1.5\n",
    "    higher_bound = Q2+IQR*1.5\n",
    "    data.drop(data[data[col]>higher_bound].index ,axis =0, inplace=True)\n",
    "    data.drop(data[data[col]<lower_bound].index , axis = 0, inplace=True)\n"
   ]
  },
  {
   "cell_type": "code",
   "execution_count": 474,
   "metadata": {},
   "outputs": [],
   "source": [
    "num_cols = data.select_dtypes(\"number\").columns\n",
    "\n",
    "for i in num_cols:\n",
    "    detect_outliers(data,i)\n",
    "# I used this code to look at my outlier detecter's impoct on my data ,but then deleted because it will be a big output\n",
    "a = np.nanmedian(data[\"Age\"])\n",
    "data[\"Age\"] = data[\"Age\"].fillna(a)"
   ]
  },
  {
   "cell_type": "code",
   "execution_count": 475,
   "metadata": {},
   "outputs": [],
   "source": [
    "def evaluate(model,X,Y):\n",
    "    X_tr,X_te,y_tr,y_te = train_test_split(X,Y,test_size=0.8,random_state=42,shuffle=True)\n",
    "    model.fit(X_tr,y_te)\n",
    "    pr = model.predict(X_te)\n",
    "    rslt = accuracy_score(y_te,pr)\n",
    "    return rslt"
   ]
  },
  {
   "cell_type": "code",
   "execution_count": 476,
   "metadata": {},
   "outputs": [],
   "source": [
    "le = LabelEncoder()\n",
    "data[\"Sex\"] = le.fit_transform(data[\"Sex\"])"
   ]
  },
  {
   "cell_type": "code",
   "execution_count": 477,
   "metadata": {},
   "outputs": [
    {
     "name": "stdout",
     "output_type": "stream",
     "text": [
      "0      22.0\n",
      "1      38.0\n",
      "2      26.0\n",
      "3      35.0\n",
      "4      35.0\n",
      "       ... \n",
      "413    28.0\n",
      "414    39.0\n",
      "415    38.5\n",
      "416    28.0\n",
      "417    28.0\n",
      "Name: Age, Length: 1281, dtype: float64\n"
     ]
    }
   ],
   "source": [
    "Y = data[:821][\"Survived\"]\n",
    "X = data[:821].drop([\"Survived\"],axis=1)\n",
    "print(data[\"Age\"])"
   ]
  },
  {
   "cell_type": "code",
   "execution_count": 478,
   "metadata": {},
   "outputs": [
    {
     "name": "stdout",
     "output_type": "stream",
     "text": [
      "0 Pclass\n",
      "0 Sex\n",
      "0 Age\n",
      "0 SibSp\n",
      "0 Parch\n",
      "0 Fare\n"
     ]
    }
   ],
   "source": [
    "for i in X.columns:\n",
    "    print(X[i].isna().sum() , i)"
   ]
  },
  {
   "cell_type": "code",
   "execution_count": 480,
   "metadata": {},
   "outputs": [
    {
     "name": "stdout",
     "output_type": "stream",
     "text": [
      "0.7595129375951294\n"
     ]
    }
   ],
   "source": [
    "X_tr,X_te,y_tr,y_te = train_test_split(X,Y,test_size=0.8,random_state=42,shuffle=True)\n",
    "\n",
    "le = LogisticRegression()\n",
    "le.fit(X_tr,y_tr)\n",
    "print(accuracy_score(y_te,le.predict(X_te)))\n",
    "\n"
   ]
  }
 ],
 "metadata": {
  "kernelspec": {
   "display_name": "unsupervisedLearning",
   "language": "python",
   "name": "python3"
  },
  "language_info": {
   "codemirror_mode": {
    "name": "ipython",
    "version": 3
   },
   "file_extension": ".py",
   "mimetype": "text/x-python",
   "name": "python",
   "nbconvert_exporter": "python",
   "pygments_lexer": "ipython3",
   "version": "3.11.4"
  }
 },
 "nbformat": 4,
 "nbformat_minor": 2
}
